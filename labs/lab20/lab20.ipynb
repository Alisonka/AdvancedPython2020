{
 "cells": [
  {
   "cell_type": "code",
   "execution_count": 3,
   "metadata": {},
   "outputs": [],
   "source": [
    "import sqlite3"
   ]
  },
  {
   "cell_type": "code",
   "execution_count": 17,
   "metadata": {},
   "outputs": [],
   "source": [
    "DB_NAME = \"biblio\""
   ]
  },
  {
   "cell_type": "markdown",
   "metadata": {},
   "source": [
    "# Sqlite3"
   ]
  },
  {
   "cell_type": "markdown",
   "metadata": {},
   "source": [
    "# More Data for the DB!"
   ]
  },
  {
   "cell_type": "code",
   "execution_count": 18,
   "metadata": {},
   "outputs": [
    {
     "ename": "OperationalError",
     "evalue": "table Book already exists",
     "output_type": "error",
     "traceback": [
      "\u001b[1;31m---------------------------------------------------------------------------\u001b[0m",
      "\u001b[1;31mOperationalError\u001b[0m                          Traceback (most recent call last)",
      "\u001b[1;32m<ipython-input-18-4e51ad710b3a>\u001b[0m in \u001b[0;36m<module>\u001b[1;34m\u001b[0m\n\u001b[0;32m      2\u001b[0m \u001b[0mcursor\u001b[0m \u001b[1;33m=\u001b[0m \u001b[0mconnection\u001b[0m\u001b[1;33m.\u001b[0m\u001b[0mcursor\u001b[0m\u001b[1;33m(\u001b[0m\u001b[1;33m)\u001b[0m\u001b[1;33m\u001b[0m\u001b[1;33m\u001b[0m\u001b[0m\n\u001b[0;32m      3\u001b[0m \u001b[1;33m\u001b[0m\u001b[0m\n\u001b[1;32m----> 4\u001b[1;33m cursor.execute(\n\u001b[0m\u001b[0;32m      5\u001b[0m     '''\n\u001b[0;32m      6\u001b[0m     CREATE TABLE Book(\n",
      "\u001b[1;31mOperationalError\u001b[0m: table Book already exists"
     ]
    }
   ],
   "source": [
    "connection = sqlite3.connect(DB_NAME)\n",
    "cursor = connection.cursor()\n",
    "\n",
    "cursor.execute(\n",
    "    '''\n",
    "    CREATE TABLE Book(\n",
    "        id INT PRIMARY KEY NOT NULL,\n",
    "        title TEXT,\n",
    "        author TEXT,\n",
    "        publish_year INT\n",
    "    )\n",
    "    '''\n",
    ")\n",
    "\n",
    "cursor.execute(\n",
    "    '''\n",
    "    INSERT INTO Book VALUES\n",
    "    (1, 'Harry Potter and the Philosopher''s Stone', 'J. K. Rowling', 1997),\n",
    "    (2, 'Методы решения задач в общем курсе физики, Механика', 'Корявов В.П.', 2007),\n",
    "    (3, 'Batman: Gotham by Gaslight', 'Brian Augustyn, Mike Mignola', 1989),\n",
    "    (4, 'Мёртвые души', 'Н. В. Гоголь', 1842),\n",
    "    (5, 'The Running Man', 'Richard Bachman', 1982)\n",
    "    '''\n",
    ")\n",
    "\n",
    "connection.commit()"
   ]
  },
  {
   "cell_type": "code",
   "execution_count": 19,
   "metadata": {},
   "outputs": [
    {
     "ename": "OperationalError",
     "evalue": "table Reader already exists",
     "output_type": "error",
     "traceback": [
      "\u001b[1;31m---------------------------------------------------------------------------\u001b[0m",
      "\u001b[1;31mOperationalError\u001b[0m                          Traceback (most recent call last)",
      "\u001b[1;32m<ipython-input-19-d07a43dcbf97>\u001b[0m in \u001b[0;36m<module>\u001b[1;34m\u001b[0m\n\u001b[1;32m----> 1\u001b[1;33m cursor.execute(\n\u001b[0m\u001b[0;32m      2\u001b[0m     '''\n\u001b[0;32m      3\u001b[0m     CREATE TABLE Reader(\n\u001b[0;32m      4\u001b[0m         \u001b[0mid\u001b[0m \u001b[0mINT\u001b[0m \u001b[0mPRIMARY\u001b[0m \u001b[0mKEY\u001b[0m \u001b[0mNOT\u001b[0m \u001b[0mNULL\u001b[0m\u001b[1;33m,\u001b[0m\u001b[1;33m\u001b[0m\u001b[1;33m\u001b[0m\u001b[0m\n\u001b[0;32m      5\u001b[0m         \u001b[0mname\u001b[0m \u001b[0mTEXT\u001b[0m\u001b[1;33m\u001b[0m\u001b[1;33m\u001b[0m\u001b[0m\n",
      "\u001b[1;31mOperationalError\u001b[0m: table Reader already exists"
     ]
    }
   ],
   "source": [
    "cursor.execute(\n",
    "    '''\n",
    "    CREATE TABLE Reader(\n",
    "        id INT PRIMARY KEY NOT NULL,\n",
    "        name TEXT\n",
    "    )\n",
    "    '''\n",
    ")\n",
    "\n",
    "cursor.execute(\n",
    "    '''\n",
    "    INSERT INTO Reader VALUES\n",
    "    (1, 'V.V. Petrovich'),\n",
    "    (2, 'Alexanderr'),\n",
    "    (3, 'Arkadiy Svidrigaylov'),\n",
    "    (4, 'Vitalya'),\n",
    "    (5, 'Noname')\n",
    "    '''\n",
    ")"
   ]
  },
  {
   "cell_type": "code",
   "execution_count": 20,
   "metadata": {},
   "outputs": [
    {
     "ename": "OperationalError",
     "evalue": "table Record already exists",
     "output_type": "error",
     "traceback": [
      "\u001b[1;31m---------------------------------------------------------------------------\u001b[0m",
      "\u001b[1;31mOperationalError\u001b[0m                          Traceback (most recent call last)",
      "\u001b[1;32m<ipython-input-20-cdd62d26ebc6>\u001b[0m in \u001b[0;36m<module>\u001b[1;34m\u001b[0m\n\u001b[1;32m----> 1\u001b[1;33m cursor.execute(\n\u001b[0m\u001b[0;32m      2\u001b[0m     '''\n\u001b[0;32m      3\u001b[0m     CREATE TABLE Record(\n\u001b[0;32m      4\u001b[0m         \u001b[0mid\u001b[0m \u001b[0mINT\u001b[0m \u001b[0mPRIMARY\u001b[0m \u001b[0mKEY\u001b[0m \u001b[0mNOT\u001b[0m \u001b[0mNULL\u001b[0m\u001b[1;33m,\u001b[0m\u001b[1;33m\u001b[0m\u001b[1;33m\u001b[0m\u001b[0m\n\u001b[0;32m      5\u001b[0m         \u001b[0mreader_id\u001b[0m \u001b[0mINT\u001b[0m \u001b[0mREFERENCES\u001b[0m \u001b[0mReaders\u001b[0m\u001b[1;33m(\u001b[0m\u001b[0mid\u001b[0m\u001b[1;33m)\u001b[0m \u001b[0mNOT\u001b[0m \u001b[0mNULL\u001b[0m\u001b[1;33m,\u001b[0m\u001b[1;33m\u001b[0m\u001b[1;33m\u001b[0m\u001b[0m\n",
      "\u001b[1;31mOperationalError\u001b[0m: table Record already exists"
     ]
    }
   ],
   "source": [
    "cursor.execute(\n",
    "    '''\n",
    "    CREATE TABLE Record(\n",
    "        id INT PRIMARY KEY NOT NULL,\n",
    "        reader_id INT REFERENCES Readers(id) NOT NULL,\n",
    "        book_id INT REFERENCES Books(id) NOT NULL,\n",
    "        taking_date TEXT,\n",
    "        returning_date TEXT\n",
    "    )\n",
    "    '''\n",
    ")"
   ]
  },
  {
   "cell_type": "code",
   "execution_count": 21,
   "metadata": {},
   "outputs": [
    {
     "ename": "IntegrityError",
     "evalue": "UNIQUE constraint failed: Record.id",
     "output_type": "error",
     "traceback": [
      "\u001b[1;31m---------------------------------------------------------------------------\u001b[0m",
      "\u001b[1;31mIntegrityError\u001b[0m                            Traceback (most recent call last)",
      "\u001b[1;32m<ipython-input-21-718ce36fc26f>\u001b[0m in \u001b[0;36m<module>\u001b[1;34m\u001b[0m\n\u001b[1;32m----> 1\u001b[1;33m cursor.execute(\n\u001b[0m\u001b[0;32m      2\u001b[0m     '''\n\u001b[0;32m      3\u001b[0m     \u001b[0mINSERT\u001b[0m \u001b[0mINTO\u001b[0m \u001b[0mRecord\u001b[0m \u001b[0mVALUES\u001b[0m\u001b[1;33m\u001b[0m\u001b[1;33m\u001b[0m\u001b[0m\n\u001b[0;32m      4\u001b[0m     \u001b[1;33m(\u001b[0m\u001b[1;36m1\u001b[0m\u001b[1;33m,\u001b[0m \u001b[1;36m3\u001b[0m\u001b[1;33m,\u001b[0m \u001b[1;36m4\u001b[0m\u001b[1;33m,\u001b[0m \u001b[1;34m'1842-02-14'\u001b[0m\u001b[1;33m,\u001b[0m \u001b[1;34m'1842-07-01'\u001b[0m\u001b[1;33m)\u001b[0m\u001b[1;33m,\u001b[0m\u001b[1;33m\u001b[0m\u001b[1;33m\u001b[0m\u001b[0m\n\u001b[0;32m      5\u001b[0m     \u001b[1;33m(\u001b[0m\u001b[1;36m2\u001b[0m\u001b[1;33m,\u001b[0m \u001b[1;36m4\u001b[0m\u001b[1;33m,\u001b[0m \u001b[1;36m4\u001b[0m\u001b[1;33m,\u001b[0m \u001b[1;34m'1996-10-26'\u001b[0m\u001b[1;33m,\u001b[0m \u001b[0mNULL\u001b[0m\u001b[1;33m)\u001b[0m\u001b[1;33m,\u001b[0m\u001b[1;33m\u001b[0m\u001b[1;33m\u001b[0m\u001b[0m\n",
      "\u001b[1;31mIntegrityError\u001b[0m: UNIQUE constraint failed: Record.id"
     ]
    }
   ],
   "source": [
    "cursor.execute(\n",
    "    '''\n",
    "    INSERT INTO Record VALUES\n",
    "    (1, 3, 4, '1842-02-14', '1842-07-01'),\n",
    "    (2, 4, 4, '1996-10-26', NULL),\n",
    "    (3, 1, 2, '2006-06-13', '2006-06-14'),\n",
    "    (4, 1, 1, '2006-06-14', '2006-06-15'),\n",
    "    (5, 1, 3, '2006-06-15', '2006-07-20'),\n",
    "    (6, 2, 5, '1985-10-11', '1987-12-25'),\n",
    "    (7, 5, 3, '2001-03-15', NULL),\n",
    "    (8, 5, 3, '2002-09-19', '2002-09-25')\n",
    "    '''\n",
    ")"
   ]
  },
  {
   "cell_type": "code",
   "execution_count": 22,
   "metadata": {},
   "outputs": [],
   "source": [
    "connection.commit()\n",
    "connection.close()"
   ]
  },
  {
   "cell_type": "markdown",
   "metadata": {},
   "source": [
    "# ДЗ - лаба "
   ]
  },
  {
   "cell_type": "code",
   "execution_count": 23,
   "metadata": {},
   "outputs": [],
   "source": [
    "connection = sqlite3.connect(DB_NAME)\n",
    "cursor = connection.cursor()"
   ]
  },
  {
   "cell_type": "markdown",
   "metadata": {},
   "source": [
    "### Вывести список книг"
   ]
  },
  {
   "cell_type": "code",
   "execution_count": 24,
   "metadata": {},
   "outputs": [
    {
     "name": "stdout",
     "output_type": "stream",
     "text": [
      "1 Harry Potter and the Philosopher's Stone\n",
      "2 Методы решения задач в общем курсе физики, Механика\n",
      "3 Batman: Gotham by Gaslight\n",
      "4 Мёртвые души\n",
      "5 The Running Man\n"
     ]
    }
   ],
   "source": [
    "cursor.execute(\"SELECT * FROM Book\")\n",
    "for row in cursor.execute(\"SELECT id, title FROM Book\"):\n",
    "    print(*row)\n",
    "    "
   ]
  },
  {
   "cell_type": "code",
   "execution_count": 25,
   "metadata": {},
   "outputs": [],
   "source": [
    "connection.close()"
   ]
  },
  {
   "cell_type": "markdown",
   "metadata": {},
   "source": [
    "### Вывести список читателей"
   ]
  },
  {
   "cell_type": "code",
   "execution_count": 26,
   "metadata": {},
   "outputs": [],
   "source": [
    "connection = sqlite3.connect(DB_NAME)\n",
    "cursor = connection.cursor()"
   ]
  },
  {
   "cell_type": "code",
   "execution_count": 27,
   "metadata": {},
   "outputs": [
    {
     "name": "stdout",
     "output_type": "stream",
     "text": [
      "1 V.V. Petrovich\n",
      "2 Alexanderr\n",
      "3 Arkadiy Svidrigaylov\n",
      "4 Vitalya\n",
      "5 Noname\n"
     ]
    }
   ],
   "source": [
    "cursor.execute(\"SELECT * FROM Reader\")\n",
    "for row in cursor.execute(\"SELECT * FROM Reader\"):\n",
    "    print(*row)"
   ]
  },
  {
   "cell_type": "code",
   "execution_count": 28,
   "metadata": {},
   "outputs": [],
   "source": [
    "connection.close()"
   ]
  },
  {
   "cell_type": "markdown",
   "metadata": {},
   "source": [
    "### Добавить книгу"
   ]
  },
  {
   "cell_type": "code",
   "execution_count": 29,
   "metadata": {},
   "outputs": [],
   "source": [
    "connection = sqlite3.connect(DB_NAME)\n",
    "cursor = connection.cursor()"
   ]
  },
  {
   "cell_type": "code",
   "execution_count": 30,
   "metadata": {},
   "outputs": [],
   "source": [
    "cursor.execute(\"SELECT Count(*) FROM Book\")\n",
    "max_id = cursor.fetchone()[0]"
   ]
  },
  {
   "cell_type": "code",
   "execution_count": 31,
   "metadata": {},
   "outputs": [
    {
     "data": {
      "text/plain": [
       "<sqlite3.Cursor at 0x1ef4d2e3260>"
      ]
     },
     "execution_count": 31,
     "metadata": {},
     "output_type": "execute_result"
    }
   ],
   "source": [
    "book1 = [\n",
    "    (max_id + 1, \"Hugo\", \"Boss\", 2007 ),    \n",
    "]\n",
    "\n",
    "connection.executemany(\n",
    "    \"INSERT INTO Book VALUES (?, ?, ?, ?)\",\n",
    "    book1\n",
    ")"
   ]
  },
  {
   "cell_type": "code",
   "execution_count": 32,
   "metadata": {},
   "outputs": [
    {
     "name": "stdout",
     "output_type": "stream",
     "text": [
      "1 Harry Potter and the Philosopher's Stone\n",
      "2 Методы решения задач в общем курсе физики, Механика\n",
      "3 Batman: Gotham by Gaslight\n",
      "4 Мёртвые души\n",
      "5 The Running Man\n",
      "6 Hugo\n"
     ]
    }
   ],
   "source": [
    "cursor.execute(\"SELECT * FROM Book\")\n",
    "for row in cursor.execute(\"SELECT id, title FROM Book\"):\n",
    "    print(*row)"
   ]
  },
  {
   "cell_type": "code",
   "execution_count": 33,
   "metadata": {},
   "outputs": [],
   "source": [
    "connection.close()"
   ]
  },
  {
   "cell_type": "markdown",
   "metadata": {},
   "source": [
    "### Добавить читателя"
   ]
  },
  {
   "cell_type": "code",
   "execution_count": 34,
   "metadata": {},
   "outputs": [
    {
     "data": {
      "text/plain": [
       "<sqlite3.Cursor at 0x1ef4d393420>"
      ]
     },
     "execution_count": 34,
     "metadata": {},
     "output_type": "execute_result"
    }
   ],
   "source": [
    "connection = sqlite3.connect(DB_NAME)\n",
    "cursor = connection.cursor()\n",
    "\n",
    "cursor.execute(\"SELECT Count(*) FROM Reader\")\n",
    "max_id_R = cursor.fetchone()[0]\n",
    "\n",
    "pearson1 = [\n",
    "    (max_id_R + 1, \"Petr Pavlovitch\" )   \n",
    "]\n",
    "\n",
    "connection.executemany(\n",
    "    \"INSERT INTO Reader VALUES (?, ?)\",\n",
    "    pearson1\n",
    ")"
   ]
  },
  {
   "cell_type": "code",
   "execution_count": 35,
   "metadata": {},
   "outputs": [
    {
     "name": "stdout",
     "output_type": "stream",
     "text": [
      "1 V.V. Petrovich\n",
      "2 Alexanderr\n",
      "3 Arkadiy Svidrigaylov\n",
      "4 Vitalya\n",
      "5 Noname\n",
      "6 Petr Pavlovitch\n"
     ]
    }
   ],
   "source": [
    "cursor.execute(\"SELECT * FROM Reader\")\n",
    "for row in cursor.execute(\"SELECT * FROM Reader\"):\n",
    "    print(*row)"
   ]
  },
  {
   "cell_type": "code",
   "execution_count": 36,
   "metadata": {},
   "outputs": [],
   "source": [
    "connection.close()"
   ]
  },
  {
   "cell_type": "markdown",
   "metadata": {},
   "source": [
    "### Выдать книгу читателю"
   ]
  },
  {
   "cell_type": "code",
   "execution_count": 37,
   "metadata": {},
   "outputs": [],
   "source": [
    "connection = sqlite3.connect(DB_NAME)\n",
    "cursor = connection.cursor()"
   ]
  },
  {
   "cell_type": "code",
   "execution_count": 38,
   "metadata": {},
   "outputs": [],
   "source": [
    "cursor.execute(\"SELECT Count(*) FROM Record\")\n",
    "max_id_Rec = cursor.fetchone()[0]\n",
    "connection.close()"
   ]
  },
  {
   "cell_type": "code",
   "execution_count": 39,
   "metadata": {},
   "outputs": [
    {
     "data": {
      "text/plain": [
       "<sqlite3.Cursor at 0x1ef4d3a67a0>"
      ]
     },
     "execution_count": 39,
     "metadata": {},
     "output_type": "execute_result"
    }
   ],
   "source": [
    "connection = sqlite3.connect(DB_NAME)\n",
    "cursor = connection.cursor()\n",
    "#CREATE TABLE Record( id INT PRIMARY KEY NOT NULL, reader_id INT REFERENCES Readers(id) NOT NULL, \n",
    "#book_id INT REFERENCES Books(id) NOT NULL,\n",
    "        #taking_date TEXT,\n",
    "        #returning_date TEXT)\n",
    "\n",
    "\n",
    "record6 = [\n",
    "    (max_id_Rec + 1, 1, 3, '2222-03-13', None)   \n",
    "]\n",
    "\n",
    "connection.executemany(\n",
    "    \"INSERT INTO Record VALUES (?, ?, ?, ?, ?)\",\n",
    "    record6\n",
    ")"
   ]
  },
  {
   "cell_type": "code",
   "execution_count": 40,
   "metadata": {},
   "outputs": [
    {
     "name": "stdout",
     "output_type": "stream",
     "text": [
      "1 3 4 1842-02-14 1842-07-01\n",
      "2 4 4 1996-10-26 None\n",
      "3 1 2 2006-06-13 2006-06-14\n",
      "4 1 1 2006-06-14 2006-06-15\n",
      "5 1 3 2006-06-15 2006-07-20\n",
      "6 2 5 1985-10-11 1987-12-25\n",
      "7 5 3 2001-03-15 None\n",
      "8 5 3 2002-09-19 2002-09-25\n",
      "9 1 3 2222-03-13 None\n"
     ]
    }
   ],
   "source": [
    "cursor.execute(\"SELECT * FROM Record\")\n",
    "for row in cursor.execute(\"SELECT * FROM Record\"):\n",
    "    print(*row)"
   ]
  },
  {
   "cell_type": "code",
   "execution_count": 41,
   "metadata": {},
   "outputs": [],
   "source": [
    "connection.close()"
   ]
  },
  {
   "cell_type": "markdown",
   "metadata": {},
   "source": [
    "### Принять книгу"
   ]
  },
  {
   "cell_type": "code",
   "execution_count": 42,
   "metadata": {},
   "outputs": [
    {
     "data": {
      "text/plain": [
       "<sqlite3.Cursor at 0x1ef4d3a6030>"
      ]
     },
     "execution_count": 42,
     "metadata": {},
     "output_type": "execute_result"
    }
   ],
   "source": [
    "connection = sqlite3.connect(DB_NAME)\n",
    "cursor = connection.cursor()\n",
    "#CREATE TABLE Record( id INT PRIMARY KEY NOT NULL, reader_id INT REFERENCES Readers(id) NOT NULL, \n",
    "#book_id INT REFERENCES Books(id) NOT NULL,\n",
    "        #taking_date TEXT,\n",
    "        #returning_date TEXT)\n",
    "\n",
    "\n",
    "record6 = [\n",
    "    (max_id_Rec + 1, 1, 3, '2222-03-13', '2222-03-15')   \n",
    "]\n",
    "\n",
    "connection.executemany(\n",
    "    \"INSERT INTO Record VALUES (?, ?, ?, ?, ?)\",\n",
    "    record6\n",
    ")"
   ]
  },
  {
   "cell_type": "code",
   "execution_count": 43,
   "metadata": {},
   "outputs": [
    {
     "name": "stdout",
     "output_type": "stream",
     "text": [
      "1 3 4 1842-02-14 1842-07-01\n",
      "2 4 4 1996-10-26 None\n",
      "3 1 2 2006-06-13 2006-06-14\n",
      "4 1 1 2006-06-14 2006-06-15\n",
      "5 1 3 2006-06-15 2006-07-20\n",
      "6 2 5 1985-10-11 1987-12-25\n",
      "7 5 3 2001-03-15 None\n",
      "8 5 3 2002-09-19 2002-09-25\n",
      "9 1 3 2222-03-13 2222-03-15\n"
     ]
    }
   ],
   "source": [
    "cursor.execute(\"SELECT * FROM Record\")\n",
    "for row in cursor.execute(\"SELECT * FROM Record\"):\n",
    "    print(*row)"
   ]
  },
  {
   "cell_type": "code",
   "execution_count": 44,
   "metadata": {},
   "outputs": [],
   "source": [
    "connection.close()"
   ]
  }
 ],
 "metadata": {
  "kernelspec": {
   "display_name": "Python 3",
   "language": "python",
   "name": "python3"
  },
  "language_info": {
   "codemirror_mode": {
    "name": "ipython",
    "version": 3
   },
   "file_extension": ".py",
   "mimetype": "text/x-python",
   "name": "python",
   "nbconvert_exporter": "python",
   "pygments_lexer": "ipython3",
   "version": "3.8.3"
  }
 },
 "nbformat": 4,
 "nbformat_minor": 5
}
