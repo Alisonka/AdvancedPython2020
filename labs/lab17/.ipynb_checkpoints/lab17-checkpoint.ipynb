{
 "cells": [
  {
   "cell_type": "code",
   "execution_count": 1,
   "metadata": {},
   "outputs": [],
   "source": [
    "import numpy as np\n",
    "import pandas as pd"
   ]
  },
  {
   "cell_type": "code",
   "execution_count": null,
   "metadata": {},
   "outputs": [],
   "source": [
    "N,M = map(int, input().split())\n",
    "data = []\n",
    "for i in range(N):\n",
    "    data.append(list(map(int, input().split())))\n",
    "df1 = pd.DataFrame(data)\n",
    "print(np.sum((df1 < -5).sum(axis=1)), 'площадь клеточек, глубина больше меньше 5')\n",
    "print(int(abs(np.sum(df1[(df1 < 0)].sum()))), 'объем суши')\n",
    "print(int(max(df1[(df1 > 0)].max())), 'максимум высоты над уровнем моря')"
   ]
  },
  {
   "cell_type": "code",
   "execution_count": null,
   "metadata": {},
   "outputs": [],
   "source": [
    "path_A = input()\n",
    "path_b = input()\n",
    "X = np.array(list(map(float, input().split())))\n",
    "\n",
    "with open(path_A) as f:\n",
    "    A = np.array([list(map(float, row.split())) for row in f.readlines()])\n",
    "    \n",
    "with open(path_b) as f1:\n",
    "    b = np.array(list(map(float, f1.read().split())))\n",
    "\n",
    "A2 = A.dot(A)\n",
    "r3 = A2.dot(X)\n",
    "r3 = r3.dot(b)\n",
    "print(r3)"
   ]
  },
  {
   "cell_type": "code",
   "execution_count": null,
   "metadata": {},
   "outputs": [],
   "source": [
    "G = pd.read_csv(\"./games001.csv\")\n",
    "R = pd.read_csv(\"./rates001.csv\")\n",
    "\n",
    "RATES = []\n",
    "for i in range(len(list(G.iterrows()))):\n",
    "    RATES.append(R[R['id'] == (i+1)]['mark'].mean())\n",
    "    \n",
    "G['mean'] = RATES\n",
    "G1 = G.sort_values(by='mean', ascending=False).head(3)\n",
    "\n",
    "for i in G1.iterrows():\n",
    "    print(G['name'].iloc[i[0]], round(G['mean'].iloc[i[0]], 3))\n",
    "    \n",
    "G2 = G[G['mean'] > 8.0] \n",
    "G3 = pd.DataFrame(G2.groupby('company')['name'].count()) \n",
    "G3 = G3.sort_values(by='name', ascending=False)\n",
    "print(G3.index[0],G3['name'][0])"
   ]
  }
 ],
 "metadata": {
  "kernelspec": {
   "display_name": "Python 3",
   "language": "python",
   "name": "python3"
  },
  "language_info": {
   "codemirror_mode": {
    "name": "ipython",
    "version": 3
   },
   "file_extension": ".py",
   "mimetype": "text/x-python",
   "name": "python",
   "nbconvert_exporter": "python",
   "pygments_lexer": "ipython3",
   "version": "3.8.3"
  }
 },
 "nbformat": 4,
 "nbformat_minor": 4
}
